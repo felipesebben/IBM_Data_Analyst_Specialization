{
 "cells": [
  {
   "cell_type": "markdown",
   "metadata": {},
   "source": [
    "<center>\n",
    "    <img src=\"https://cf-courses-data.s3.us.cloud-object-storage.appdomain.cloud/IBMDeveloperSkillsNetwork-PY0101EN-SkillsNetwork/IDSNlogo.png\" width=\"300\" alt=\"cognitiveclass.ai logo\"  />\n",
    "</center>\n",
    "\n",
    "# Application Programming Interface\n",
    "\n",
    "Estimated time needed: **15** minutes\n",
    "\n",
    "## Objectives\n",
    "\n",
    "After completing this lab you will be able to:\n",
    "\n",
    "-   Create and Use APIs in Python\n"
   ]
  },
  {
   "cell_type": "markdown",
   "metadata": {},
   "source": [
    "### Introduction\n",
    "\n",
    "An API lets two pieces of software talk to each other. Just like a function,  you don’t have to know how the API works only its inputs and outputs.  An essential type of API is a REST API that allows you to access resources via the internet. In this lab, we will review the Pandas Library  in the context of an API, we will also review a basic REST API  \n"
   ]
  },
  {
   "cell_type": "markdown",
   "metadata": {},
   "source": [
    "## Table of Contents\n",
    "\n",
    "<div class=\"alert alert-block alert-info\" style=\"margin-top: 20px\">\n",
    "<li><a href=\"#ref0\">Pandas is an API</a></li>\n",
    "<li><a href=\"#ref1\">REST APIs Basics  </a></li>\n",
    "<li><a href=\"#ref2\">Quiz on Tuples</a></li>\n",
    "\n",
    "</div>\n",
    "\n",
    "<hr>\n"
   ]
  },
  {
   "cell_type": "code",
   "execution_count": 1,
   "metadata": {
    "collapsed": false,
    "jupyter": {
     "outputs_hidden": false
    }
   },
   "outputs": [
    {
     "name": "stdout",
     "output_type": "stream",
     "text": [
      "Collecting pycoingecko\n",
      "  Downloading pycoingecko-2.2.0-py3-none-any.whl (8.3 kB)\n",
      "Requirement already satisfied: requests in c:\\users\\felip\\anaconda3\\lib\\site-packages (from pycoingecko) (2.26.0)\n",
      "Requirement already satisfied: urllib3<1.27,>=1.21.1 in c:\\users\\felip\\anaconda3\\lib\\site-packages (from requests->pycoingecko) (1.26.7)\n",
      "Requirement already satisfied: certifi>=2017.4.17 in c:\\users\\felip\\anaconda3\\lib\\site-packages (from requests->pycoingecko) (2021.10.8)\n",
      "Requirement already satisfied: idna<4,>=2.5 in c:\\users\\felip\\anaconda3\\lib\\site-packages (from requests->pycoingecko) (3.3)\n",
      "Requirement already satisfied: charset-normalizer~=2.0.0 in c:\\users\\felip\\anaconda3\\lib\\site-packages (from requests->pycoingecko) (2.0.4)\n",
      "Installing collected packages: pycoingecko\n",
      "Successfully installed pycoingecko-2.2.0\n",
      "Collecting plotly\n",
      "  Downloading plotly-5.5.0-py2.py3-none-any.whl (26.5 MB)\n",
      "Requirement already satisfied: six in c:\\users\\felip\\anaconda3\\lib\\site-packages (from plotly) (1.16.0)\n",
      "Collecting tenacity>=6.2.0\n",
      "  Using cached tenacity-8.0.1-py3-none-any.whl (24 kB)\n",
      "Installing collected packages: tenacity, plotly\n",
      "Successfully installed plotly-5.5.0 tenacity-8.0.1\n",
      "Collecting mplfinance\n",
      "  Downloading mplfinance-0.12.8b9-py3-none-any.whl (70 kB)\n",
      "Requirement already satisfied: pandas in c:\\users\\felip\\anaconda3\\lib\\site-packages (from mplfinance) (1.3.4)\n",
      "Requirement already satisfied: matplotlib in c:\\users\\felip\\anaconda3\\lib\\site-packages (from mplfinance) (3.5.0)\n",
      "Requirement already satisfied: kiwisolver>=1.0.1 in c:\\users\\felip\\anaconda3\\lib\\site-packages (from matplotlib->mplfinance) (1.3.1)\n",
      "Requirement already satisfied: cycler>=0.10 in c:\\users\\felip\\anaconda3\\lib\\site-packages (from matplotlib->mplfinance) (0.11.0)\n",
      "Requirement already satisfied: packaging>=20.0 in c:\\users\\felip\\anaconda3\\lib\\site-packages (from matplotlib->mplfinance) (21.3)\n",
      "Requirement already satisfied: python-dateutil>=2.7 in c:\\users\\felip\\anaconda3\\lib\\site-packages (from matplotlib->mplfinance) (2.8.2)\n",
      "Requirement already satisfied: pyparsing>=2.2.1 in c:\\users\\felip\\anaconda3\\lib\\site-packages (from matplotlib->mplfinance) (3.0.4)\n",
      "Requirement already satisfied: numpy>=1.17 in c:\\users\\felip\\anaconda3\\lib\\site-packages (from matplotlib->mplfinance) (1.21.2)\n",
      "Requirement already satisfied: pillow>=6.2.0 in c:\\users\\felip\\anaconda3\\lib\\site-packages (from matplotlib->mplfinance) (8.4.0)\n",
      "Requirement already satisfied: fonttools>=4.22.0 in c:\\users\\felip\\anaconda3\\lib\\site-packages (from matplotlib->mplfinance) (4.25.0)\n",
      "Requirement already satisfied: six>=1.5 in c:\\users\\felip\\anaconda3\\lib\\site-packages (from python-dateutil>=2.7->matplotlib->mplfinance) (1.16.0)\n",
      "Requirement already satisfied: pytz>=2017.3 in c:\\users\\felip\\anaconda3\\lib\\site-packages (from pandas->mplfinance) (2021.3)\n",
      "Installing collected packages: mplfinance\n",
      "Successfully installed mplfinance-0.12.8b9\n"
     ]
    }
   ],
   "source": [
    "!pip install pycoingecko\n",
    "!pip install plotly\n",
    "!pip install mplfinance"
   ]
  },
  {
   "cell_type": "markdown",
   "metadata": {},
   "source": [
    "<h2 id=\"PandasAPI\">Pandas is an API </h2>\n"
   ]
  },
  {
   "cell_type": "markdown",
   "metadata": {},
   "source": [
    "Pandas is actually set of software components , much of  which is not even written in Python.\n"
   ]
  },
  {
   "cell_type": "code",
   "execution_count": 2,
   "metadata": {
    "collapsed": false,
    "jupyter": {
     "outputs_hidden": false
    }
   },
   "outputs": [],
   "source": [
    "import pandas as pd\n",
    "import numpy as np\n",
    "import plotly.graph_objects as go\n",
    "from plotly.offline import plot\n",
    "import matplotlib.pyplot as plt\n",
    "import datetime\n",
    "from pycoingecko import CoinGeckoAPI\n",
    "from mplfinance.original_flavor import candlestick2_ohlc"
   ]
  },
  {
   "cell_type": "markdown",
   "metadata": {},
   "source": [
    "You create a dictionary, this is just data.\n"
   ]
  },
  {
   "cell_type": "code",
   "execution_count": 3,
   "metadata": {
    "collapsed": false,
    "jupyter": {
     "outputs_hidden": false
    }
   },
   "outputs": [],
   "source": [
    "dict_={'a':[11,21,31],'b':[12,22,32]}"
   ]
  },
  {
   "cell_type": "markdown",
   "metadata": {},
   "source": [
    "When you create a Pandas object with the Dataframe constructor in API lingo, this is an \"instance\". The data in the dictionary is passed along to the pandas API. You then use the dataframe to communicate with the API.\n"
   ]
  },
  {
   "cell_type": "code",
   "execution_count": 4,
   "metadata": {
    "collapsed": false,
    "jupyter": {
     "outputs_hidden": false
    }
   },
   "outputs": [
    {
     "data": {
      "text/plain": [
       "pandas.core.frame.DataFrame"
      ]
     },
     "execution_count": 4,
     "metadata": {},
     "output_type": "execute_result"
    }
   ],
   "source": [
    "df=pd.DataFrame(dict_)\n",
    "type(df)"
   ]
  },
  {
   "cell_type": "markdown",
   "metadata": {},
   "source": [
    "<img src = \"https://cf-courses-data.s3.us.cloud-object-storage.appdomain.cloud/IBMDeveloperSkillsNetwork-PY0101EN-SkillsNetwork/labs/Module%205/images/pandas_api.png\" width = 800, align = \"center\" alt=\"logistic regression block diagram\" />\n"
   ]
  },
  {
   "cell_type": "markdown",
   "metadata": {},
   "source": [
    "When you call the method head the dataframe communicates with the API displaying the first few rows of the dataframe.\n"
   ]
  },
  {
   "cell_type": "code",
   "execution_count": 5,
   "metadata": {
    "collapsed": false,
    "jupyter": {
     "outputs_hidden": false
    }
   },
   "outputs": [
    {
     "data": {
      "text/html": [
       "<div>\n",
       "<style scoped>\n",
       "    .dataframe tbody tr th:only-of-type {\n",
       "        vertical-align: middle;\n",
       "    }\n",
       "\n",
       "    .dataframe tbody tr th {\n",
       "        vertical-align: top;\n",
       "    }\n",
       "\n",
       "    .dataframe thead th {\n",
       "        text-align: right;\n",
       "    }\n",
       "</style>\n",
       "<table border=\"1\" class=\"dataframe\">\n",
       "  <thead>\n",
       "    <tr style=\"text-align: right;\">\n",
       "      <th></th>\n",
       "      <th>a</th>\n",
       "      <th>b</th>\n",
       "    </tr>\n",
       "  </thead>\n",
       "  <tbody>\n",
       "    <tr>\n",
       "      <th>0</th>\n",
       "      <td>11</td>\n",
       "      <td>12</td>\n",
       "    </tr>\n",
       "    <tr>\n",
       "      <th>1</th>\n",
       "      <td>21</td>\n",
       "      <td>22</td>\n",
       "    </tr>\n",
       "    <tr>\n",
       "      <th>2</th>\n",
       "      <td>31</td>\n",
       "      <td>32</td>\n",
       "    </tr>\n",
       "  </tbody>\n",
       "</table>\n",
       "</div>"
      ],
      "text/plain": [
       "    a   b\n",
       "0  11  12\n",
       "1  21  22\n",
       "2  31  32"
      ]
     },
     "execution_count": 5,
     "metadata": {},
     "output_type": "execute_result"
    }
   ],
   "source": [
    "df.head()"
   ]
  },
  {
   "cell_type": "markdown",
   "metadata": {},
   "source": [
    "When you call the method mean,the API will calculate the mean and return the value.\n"
   ]
  },
  {
   "cell_type": "code",
   "execution_count": 6,
   "metadata": {
    "collapsed": false,
    "jupyter": {
     "outputs_hidden": false
    }
   },
   "outputs": [
    {
     "data": {
      "text/plain": [
       "a    21.0\n",
       "b    22.0\n",
       "dtype: float64"
      ]
     },
     "execution_count": 6,
     "metadata": {},
     "output_type": "execute_result"
    }
   ],
   "source": [
    "df.mean()\n"
   ]
  },
  {
   "cell_type": "markdown",
   "metadata": {},
   "source": [
    "<h2 id=\"ref1\">REST APIs</h2>\n"
   ]
  },
  {
   "cell_type": "markdown",
   "metadata": {},
   "source": [
    "Rest API’s function by sending a request,  the request is communicated via HTTP message. The HTTP message usually contains a JSON file. This contains instructions for what operation we would like the service or resource to perform. In a similar manner, API returns a response, via an HTTP message, this response is usually contained within a JSON.\n",
    "\n",
    "In cryptocurrency a popular method to display the movements of the price of a currency.\n",
    "\n",
    "![Example Candlestick Graph](https://cf-courses-data.s3.us.cloud-object-storage.appdomain.cloud/IBMDeveloperSkillsNetwork-PY0101EN-SkillsNetwork/labs/Module%205/candlestick.png)\n",
    "\n",
    "Here is a description of the candle sticks.\n",
    "\n",
    "<img src=\"https://cf-courses-data.s3.us.cloud-object-storage.appdomain.cloud/IBMDeveloperSkillsNetwork-PY0101EN-SkillsNetwork/labs/Module%205/explanation.png\" alt=\"Candle Stick Definition\" width=\"800\" height=\"600\">\n",
    "\n",
    "In this lab, we will be using the <a href=https://www.coingecko.com/en/api>CoinGecko API</a> to create one of these candlestick graphs for Bitcoin. We will use the API to get the price data for 30 days with 24 observation per day, 1 per hour. We will find the max, min, open, and close price per day meaning we will have 30 candlesticks and use that to generate the candlestick graph. Although we are using the CoinGecko API we will use a Python client/wrapper for the API called <a href=https://github.com/man-c/pycoingecko>PyCoinGecko</a>. PyCoinGecko will make performing the requests easy and it will deal with the enpoint targeting.\n"
   ]
  },
  {
   "cell_type": "markdown",
   "metadata": {},
   "source": [
    "Lets start off by getting the data we need. Using the <code>get_coin_market_chart_by_id(id, vs_currency, days)</code>. <code>id</code> is the name of the coin you want, <code>vs_currency</code> is the currency you want the price in, and <code>days</code> is how many days back from today you want.\n"
   ]
  },
  {
   "cell_type": "code",
   "execution_count": 7,
   "metadata": {},
   "outputs": [],
   "source": [
    "cg = CoinGeckoAPI()\n",
    "\n",
    "bitcoin_data = cg.get_coin_market_chart_by_id(id='bitcoin', vs_currency='usd', days=30)"
   ]
  },
  {
   "cell_type": "code",
   "execution_count": 8,
   "metadata": {},
   "outputs": [
    {
     "data": {
      "text/plain": [
       "dict"
      ]
     },
     "execution_count": 8,
     "metadata": {},
     "output_type": "execute_result"
    }
   ],
   "source": [
    "type(bitcoin_data)"
   ]
  },
  {
   "cell_type": "markdown",
   "metadata": {},
   "source": [
    "The response we get is in the form of a JSON which includes the price, market caps, and total volumes along with timestamps for each observation. We are focused on the prices so we will select that data.\n"
   ]
  },
  {
   "cell_type": "code",
   "execution_count": 9,
   "metadata": {},
   "outputs": [
    {
     "data": {
      "text/plain": [
       "[[1641236906582, 46548.370425069],\n",
       " [1641240797687, 46393.98638742354],\n",
       " [1641243974746, 45966.43984703932],\n",
       " [1641247362719, 46155.15631143342],\n",
       " [1641250801983, 46280.98326476368]]"
      ]
     },
     "execution_count": 9,
     "metadata": {},
     "output_type": "execute_result"
    }
   ],
   "source": [
    "bitcoin_price_data = bitcoin_data['prices']\n",
    "\n",
    "bitcoin_price_data[0:5]"
   ]
  },
  {
   "cell_type": "markdown",
   "metadata": {},
   "source": [
    "Finally lets turn this data into a Pandas DataFrame.\n"
   ]
  },
  {
   "cell_type": "code",
   "execution_count": 10,
   "metadata": {},
   "outputs": [],
   "source": [
    "data = pd.DataFrame(bitcoin_price_data, columns=['TimeStamp', 'Price'])"
   ]
  },
  {
   "cell_type": "markdown",
   "metadata": {},
   "source": [
    "Now that we have the DataFrame we will convert the timestamp to datetime and save it as a column called <code>Date</code>. We will map our <code>unix_to_datetime</code> to each timestamp and convert it to a readable datetime.\n"
   ]
  },
  {
   "cell_type": "code",
   "execution_count": 11,
   "metadata": {},
   "outputs": [],
   "source": [
    "data['Date'] = pd.to_datetime(data['TimeStamp'], unit='ms')"
   ]
  },
  {
   "cell_type": "markdown",
   "metadata": {},
   "source": [
    "Using this modified dataset we can now group by the <code>Date</code> and find the min, max, open, and close for the candlesticks.\n"
   ]
  },
  {
   "cell_type": "code",
   "execution_count": 12,
   "metadata": {},
   "outputs": [],
   "source": [
    "candlestick_data = data.groupby(data.Date.dt.date, as_index=False).agg({\"Price\": ['min', 'max', 'first', 'last']})"
   ]
  },
  {
   "cell_type": "markdown",
   "metadata": {},
   "source": [
    "Finally we are now ready to use plotly to create our Candlestick Chart.\n"
   ]
  },
  {
   "cell_type": "code",
   "execution_count": 13,
   "metadata": {},
   "outputs": [
    {
     "data": {
      "application/vnd.plotly.v1+json": {
       "config": {
        "plotlyServerURL": "https://plot.ly"
       },
       "data": [
        {
         "close": [
          46280.98326476368,
          46164.78138780403,
          43265.68419748686,
          43275.913391207716,
          41585.022892259345,
          42003.66945857541,
          42218.57126578665,
          41656.505042558805,
          42836.282931337686,
          43933.94798971295,
          42641.77574380057,
          43433.83319474636,
          43323.334689302115,
          43225.92579999611,
          42346.541012394795,
          42498.47853946216,
          42035.87953978328,
          41244.72558790132,
          35761.710943672675,
          34935.31059784646,
          35578.38113726986,
          36313.84895185083,
          36833.93079566088,
          36776.53224146219,
          36974.7497498298,
          37742.296334791674,
          38191.791040398246,
          37874.99796720115,
          38494.392526614065,
          38728.89008488232,
          37537.879376202975
         ],
         "high": [
          46548.370425069,
          47507.693656884665,
          46928.9216580707,
          43847.688673129465,
          43216.45867693359,
          42240.08706720382,
          42755.76334790146,
          42409.43949411891,
          43161.26720258187,
          44142.95617046611,
          44046.08436602141,
          43494.76826815796,
          43621.32296679522,
          43445.73263441537,
          43119.79214308028,
          42498.47853946216,
          42652.55815588597,
          43308.03956681778,
          41011.486226241585,
          36639.176855482365,
          36066.53867510662,
          37475.90835787767,
          37364.884606724365,
          38566.22508438554,
          37053.06453570276,
          37907.74005009467,
          38509.11533552563,
          38333.50041978721,
          38563.86326209492,
          39048.30602879875,
          38801.34254479085
         ],
         "low": [
          45966.43984703932,
          45794.698823411105,
          43265.68419748686,
          42703.36056443185,
          41119.024408424884,
          40655.24908589081,
          41558.21781001086,
          40683.26965807297,
          41628.0329959911,
          42590.282253812686,
          42641.77574380057,
          42024.69661257974,
          42669.96652910112,
          42819.45590325531,
          41756.89208374346,
          41356.61112815827,
          41265.005495175465,
          41244.72558790132,
          35761.710943672675,
          34527.6528378289,
          34804.560652713786,
          33505.71385790957,
          35932.24680133195,
          36480.07828971702,
          35622.94356709955,
          36301.5145817071,
          37540.930535916974,
          37575.72871145612,
          36920.786339158105,
          38277.927203377985,
          37446.83385221919
         ],
         "open": [
          46548.370425069,
          46531.140860530526,
          45938.02427172366,
          43526.03699363513,
          43216.45867693359,
          41527.197042644846,
          41756.66232397826,
          41862.3609856517,
          41890.545239659165,
          42811.149099488095,
          43981.87732717414,
          42608.41001195019,
          43191.97077835075,
          43173.14113478345,
          43119.79214308028,
          42311.13096812778,
          42395.45879157343,
          41749.55143098559,
          40707.6824143097,
          36385.341362730935,
          35180.435462830384,
          36306.409440464704,
          36774.00714224005,
          36988.928510667356,
          37007.385905588635,
          37276.839558174994,
          37852.57902803263,
          38232.17873217708,
          37983.151499406464,
          38555.53446121157,
          38801.34254479085
         ],
         "type": "candlestick",
         "x": [
          "2022-01-03T19:08:26.582000",
          "2022-01-03T20:13:17.687000",
          "2022-01-03T21:06:14.746000",
          "2022-01-03T22:02:42.719000",
          "2022-01-03T23:00:01.983000",
          "2022-01-04T00:02:54.962000",
          "2022-01-04T01:00:19.142000",
          "2022-01-04T02:02:20.094000",
          "2022-01-04T03:03:34.497000",
          "2022-01-04T04:00:08.247000",
          "2022-01-04T05:01:54.408000",
          "2022-01-04T06:03:14.945000",
          "2022-01-04T07:03:28.942000",
          "2022-01-04T08:04:07.899000",
          "2022-01-04T09:20:12.372000",
          "2022-01-04T10:03:11.066000",
          "2022-01-04T11:02:14.280000",
          "2022-01-04T12:00:35.870000",
          "2022-01-04T13:02:31.402000",
          "2022-01-04T14:00:19.028000",
          "2022-01-04T15:01:44.345000",
          "2022-01-04T16:02:04.917000",
          "2022-01-04T17:03:58.958000",
          "2022-01-04T18:04:36.342000",
          "2022-01-04T19:04:21.960000",
          "2022-01-04T20:03:57.863000",
          "2022-01-04T21:01:31.596000",
          "2022-01-04T22:02:04.982000",
          "2022-01-04T23:02:06.283000",
          "2022-01-05T00:01:01.450000",
          "2022-01-05T01:07:20.565000",
          "2022-01-05T02:03:15.428000",
          "2022-01-05T03:06:04.396000",
          "2022-01-05T04:00:17.638000",
          "2022-01-05T05:01:47.318000",
          "2022-01-05T06:01:32.586000",
          "2022-01-05T07:06:51.646000",
          "2022-01-05T08:00:39.615000",
          "2022-01-05T09:01:20.721000",
          "2022-01-05T10:04:20.497000",
          "2022-01-05T11:03:26.451000",
          "2022-01-05T12:03:00.115000",
          "2022-01-05T13:01:13.199000",
          "2022-01-05T14:03:28.831000",
          "2022-01-05T15:04:30.993000",
          "2022-01-05T16:04:52.468000",
          "2022-01-05T17:02:46.180000",
          "2022-01-05T18:02:07.046000",
          "2022-01-05T19:00:19.501000",
          "2022-01-05T20:01:01.674000",
          "2022-01-05T21:03:32.139000",
          "2022-01-05T22:03:42.269000",
          "2022-01-05T23:01:15.058000",
          "2022-01-06T00:05:21.551000",
          "2022-01-06T01:00:33.914000",
          "2022-01-06T02:01:58.993000",
          "2022-01-06T03:00:49.821000",
          "2022-01-06T04:02:49.524000",
          "2022-01-06T05:03:22.894000",
          "2022-01-06T06:02:52.753000",
          "2022-01-06T07:00:36.783000",
          "2022-01-06T08:00:12.941000",
          "2022-01-06T09:01:42.388000",
          "2022-01-06T10:07:36.767000",
          "2022-01-06T11:03:35.178000",
          "2022-01-06T12:00:05.869000",
          "2022-01-06T13:05:10.292000",
          "2022-01-06T14:01:25.200000",
          "2022-01-06T15:03:10.768000",
          "2022-01-06T16:03:20.076000",
          "2022-01-06T17:03:24.001000",
          "2022-01-06T18:02:58.628000",
          "2022-01-06T19:00:51.042000",
          "2022-01-06T20:02:53.649000",
          "2022-01-06T21:01:39.257000",
          "2022-01-06T22:02:35.552000",
          "2022-01-06T23:02:17.332000",
          "2022-01-07T00:04:22.138000",
          "2022-01-07T01:02:59.657000",
          "2022-01-07T02:03:24.390000",
          "2022-01-07T03:03:03.989000",
          "2022-01-07T04:04:10.809000",
          "2022-01-07T05:00:03.788000",
          "2022-01-07T06:02:23.306000",
          "2022-01-07T07:00:41.288000",
          "2022-01-07T08:02:36.644000",
          "2022-01-07T09:01:17.337000",
          "2022-01-07T10:02:08.941000",
          "2022-01-07T11:04:01.451000",
          "2022-01-07T12:04:18.531000",
          "2022-01-07T13:11:53.945000",
          "2022-01-07T14:01:49.472000",
          "2022-01-07T15:04:07.665000",
          "2022-01-07T16:00:11.563000",
          "2022-01-07T17:01:49.884000",
          "2022-01-07T18:00:52.184000",
          "2022-01-07T19:00:04.488000",
          "2022-01-07T20:00:25.400000",
          "2022-01-07T21:00:41.222000",
          "2022-01-07T22:01:02.385000",
          "2022-01-07T23:03:30.920000",
          "2022-01-08T00:03:22.713000",
          "2022-01-08T01:00:20.328000",
          "2022-01-08T02:04:08.672000",
          "2022-01-08T03:01:36.401000",
          "2022-01-08T04:02:35.887000",
          "2022-01-08T05:00:20.444000",
          "2022-01-08T06:02:24.346000",
          "2022-01-08T07:05:37.112000",
          "2022-01-08T08:03:43.990000",
          "2022-01-08T09:06:10.339000",
          "2022-01-08T10:03:52.654000",
          "2022-01-08T11:03:28.637000",
          "2022-01-08T12:02:01.460000",
          "2022-01-08T13:12:31.482000",
          "2022-01-08T14:04:02.323000",
          "2022-01-08T15:03:29.172000",
          "2022-01-08T16:01:39.735000",
          "2022-01-08T17:01:11.282000",
          "2022-01-08T18:01:18.545000",
          "2022-01-08T19:05:15.967000",
          "2022-01-08T20:01:49.968000",
          "2022-01-08T21:01:37.765000",
          "2022-01-08T22:03:34.516000",
          "2022-01-08T23:01:10.751000",
          "2022-01-09T00:03:22.796000",
          "2022-01-09T01:16:11.797000",
          "2022-01-09T02:00:48.250000",
          "2022-01-09T03:00:57.413000",
          "2022-01-09T04:04:15.530000",
          "2022-01-09T05:02:11.951000",
          "2022-01-09T06:05:43.770000",
          "2022-01-09T07:08:14.243000",
          "2022-01-09T08:01:52.369000",
          "2022-01-09T09:05:57.507000",
          "2022-01-09T10:06:12.695000",
          "2022-01-09T11:03:42.292000",
          "2022-01-09T12:03:34.482000",
          "2022-01-09T13:00:22.178000",
          "2022-01-09T14:00:02.349000",
          "2022-01-09T15:01:21.132000",
          "2022-01-09T16:02:22.908000",
          "2022-01-09T17:02:58.464000",
          "2022-01-09T18:03:34.348000",
          "2022-01-09T19:03:06.109000",
          "2022-01-09T20:05:49.231000",
          "2022-01-09T21:03:28.944000",
          "2022-01-09T22:04:44.859000",
          "2022-01-09T23:03:39.512000",
          "2022-01-10T00:02:30.310000",
          "2022-01-10T01:02:04.678000",
          "2022-01-10T02:01:22.130000",
          "2022-01-10T03:04:37.216000",
          "2022-01-10T04:04:13.076000",
          "2022-01-10T05:01:41.055000",
          "2022-01-10T06:01:32.515000",
          "2022-01-10T07:06:05.919000",
          "2022-01-10T08:03:48.202000",
          "2022-01-10T09:03:39.345000",
          "2022-01-10T10:03:20.733000",
          "2022-01-10T11:01:04.569000",
          "2022-01-10T12:04:43.813000",
          "2022-01-10T13:03:51.175000",
          "2022-01-10T14:03:49.205000",
          "2022-01-10T15:05:01.665000",
          "2022-01-10T16:02:41.037000",
          "2022-01-10T17:04:03.594000",
          "2022-01-10T18:00:34.220000",
          "2022-01-10T19:05:22.658000",
          "2022-01-10T20:03:42.491000",
          "2022-01-10T21:03:25.816000",
          "2022-01-10T22:05:59.543000",
          "2022-01-10T23:02:55.536000",
          "2022-01-11T00:06:52.461000",
          "2022-01-11T01:01:01.189000",
          "2022-01-11T02:02:03.502000",
          "2022-01-11T03:03:00.543000",
          "2022-01-11T04:04:46.320000",
          "2022-01-11T05:04:01.591000",
          "2022-01-11T06:01:27.106000",
          "2022-01-11T07:08:30.050000",
          "2022-01-11T08:05:09.731000",
          "2022-01-11T09:03:01.511000",
          "2022-01-11T10:06:58.486000",
          "2022-01-11T11:03:34.463000",
          "2022-01-11T12:02:14.194000",
          "2022-01-11T13:04:00.594000",
          "2022-01-11T14:02:49.558000",
          "2022-01-11T15:00:46.541000",
          "2022-01-11T16:04:56.520000",
          "2022-01-11T17:03:09.186000",
          "2022-01-11T18:04:10.508000",
          "2022-01-11T19:05:47.995000",
          "2022-01-11T20:04:39.225000",
          "2022-01-11T21:04:21.951000",
          "2022-01-11T22:04:05.625000",
          "2022-01-11T23:03:59.886000",
          "2022-01-12T00:06:30.831000",
          "2022-01-12T01:01:02.841000",
          "2022-01-12T02:03:46.561000",
          "2022-01-12T03:03:47.767000",
          "2022-01-12T04:04:35.622000",
          "2022-01-12T05:01:09.095000",
          "2022-01-12T06:01:54.368000",
          "2022-01-12T07:00:54.286000",
          "2022-01-12T08:02:25.540000",
          "2022-01-12T09:06:17.552000",
          "2022-01-12T10:03:44.871000",
          "2022-01-12T11:03:17.324000",
          "2022-01-12T12:00:06.392000",
          "2022-01-12T13:02:25.560000",
          "2022-01-12T14:02:06.309000",
          "2022-01-12T15:01:12.650000",
          "2022-01-12T16:10:41.953000",
          "2022-01-12T17:03:54.663000",
          "2022-01-12T18:01:54.034000",
          "2022-01-12T19:07:34.026000",
          "2022-01-12T20:03:33.930000",
          "2022-01-12T21:00:38.046000",
          "2022-01-12T22:03:42.806000",
          "2022-01-12T23:02:15.522000",
          "2022-01-13T00:04:12.744000",
          "2022-01-13T01:01:50.007000",
          "2022-01-13T02:00:15.490000",
          "2022-01-13T03:03:58.630000",
          "2022-01-13T04:02:51.347000",
          "2022-01-13T05:04:10.941000",
          "2022-01-13T06:01:17.650000",
          "2022-01-13T07:10:00.287000",
          "2022-01-13T08:01:19.336000",
          "2022-01-13T09:02:34.485000",
          "2022-01-13T10:03:26.085000",
          "2022-01-13T11:03:51.247000",
          "2022-01-13T12:03:53.653000",
          "2022-01-13T13:07:08.777000",
          "2022-01-13T14:03:16.289000",
          "2022-01-13T15:07:51.956000",
          "2022-01-13T16:01:13.636000",
          "2022-01-13T17:00:26.543000",
          "2022-01-13T18:02:07.774000",
          "2022-01-13T19:00:55.812000",
          "2022-01-13T20:04:14.943000",
          "2022-01-13T21:05:58.197000",
          "2022-01-13T22:00:49.198000",
          "2022-01-13T23:05:06.976000",
          "2022-01-14T00:01:21.011000",
          "2022-01-14T01:17:32.338000",
          "2022-01-14T02:02:44.703000",
          "2022-01-14T03:00:38.747000",
          "2022-01-14T04:01:39.597000",
          "2022-01-14T05:01:07.530000",
          "2022-01-14T06:04:31.662000",
          "2022-01-14T07:02:16.242000",
          "2022-01-14T08:03:46.384000",
          "2022-01-14T09:02:22.242000",
          "2022-01-14T10:00:43.976000",
          "2022-01-14T11:03:21.533000",
          "2022-01-14T12:05:20.439000",
          "2022-01-14T13:00:43.047000",
          "2022-01-14T14:04:09.799000",
          "2022-01-14T15:04:15.814000",
          "2022-01-14T16:03:27.596000",
          "2022-01-14T17:02:11.024000",
          "2022-01-14T18:04:51.067000",
          "2022-01-14T19:02:49.502000",
          "2022-01-14T20:03:10.408000",
          "2022-01-14T21:00:05.173000",
          "2022-01-14T22:02:57.111000",
          "2022-01-14T23:02:01.013000",
          "2022-01-15T00:06:10.751000",
          "2022-01-15T01:20:16.010000",
          "2022-01-15T02:00:55.506000",
          "2022-01-15T03:02:59.850000",
          "2022-01-15T04:05:37.205000",
          "2022-01-15T05:04:04.459000",
          "2022-01-15T06:05:50.140000",
          "2022-01-15T07:10:19.619000",
          "2022-01-15T08:02:29.404000",
          "2022-01-15T09:01:24.919000",
          "2022-01-15T10:04:41.345000",
          "2022-01-15T11:00:02.214000",
          "2022-01-15T12:04:44.170000",
          "2022-01-15T13:05:21.086000",
          "2022-01-15T14:04:04.972000",
          "2022-01-15T15:03:22.163000",
          "2022-01-15T16:00:26.503000",
          "2022-01-15T17:02:17.207000",
          "2022-01-15T18:04:33.560000",
          "2022-01-15T19:07:32.736000",
          "2022-01-15T20:03:52.900000",
          "2022-01-15T21:03:19.162000",
          "2022-01-15T22:04:59.485000",
          "2022-01-15T23:00:00.635000",
          "2022-01-16T00:04:21.449000",
          "2022-01-16T01:00:20.485000",
          "2022-01-16T02:00:49.143000",
          "2022-01-16T03:00:43.350000",
          "2022-01-16T04:01:53.648000",
          "2022-01-16T05:03:53.595000",
          "2022-01-16T06:01:44.483000",
          "2022-01-16T07:01:58.825000",
          "2022-01-16T08:01:41.830000",
          "2022-01-16T09:00:26.318000",
          "2022-01-16T10:02:06.617000",
          "2022-01-16T11:01:02.789000",
          "2022-01-16T12:02:47.664000",
          "2022-01-16T13:01:21.808000",
          "2022-01-16T14:01:59.255000",
          "2022-01-16T15:00:52.476000",
          "2022-01-16T16:00:52.470000",
          "2022-01-16T17:01:48.364000",
          "2022-01-16T18:00:37.802000",
          "2022-01-16T19:01:06.560000",
          "2022-01-16T20:00:13.811000",
          "2022-01-16T21:01:52.715000",
          "2022-01-16T22:02:10.894000",
          "2022-01-16T23:02:07.989000",
          "2022-01-17T00:00:46.044000",
          "2022-01-17T01:18:14.692000",
          "2022-01-17T02:01:50.897000",
          "2022-01-17T03:01:57.068000",
          "2022-01-17T04:00:36.421000",
          "2022-01-17T05:00:33.127000",
          "2022-01-17T06:02:12.413000",
          "2022-01-17T07:00:38.825000",
          "2022-01-17T08:00:34.920000",
          "2022-01-17T09:04:37.789000",
          "2022-01-17T10:02:20.231000",
          "2022-01-17T11:00:37.341000",
          "2022-01-17T12:00:53.261000",
          "2022-01-17T13:02:13.130000",
          "2022-01-17T14:00:22.319000",
          "2022-01-17T15:01:06.253000",
          "2022-01-17T16:04:35.100000",
          "2022-01-17T17:00:53.722000",
          "2022-01-17T18:03:14.070000",
          "2022-01-17T19:04:53.756000",
          "2022-01-17T20:02:08.774000",
          "2022-01-17T21:01:10.106000",
          "2022-01-17T22:01:58.900000",
          "2022-01-17T23:01:17.923000",
          "2022-01-18T00:02:41.403000",
          "2022-01-18T01:12:49.285000",
          "2022-01-18T02:01:35.036000",
          "2022-01-18T03:01:05.285000",
          "2022-01-18T04:01:06.863000",
          "2022-01-18T05:03:11.362000",
          "2022-01-18T06:02:45.736000",
          "2022-01-18T07:00:04.082000",
          "2022-01-18T08:02:23.052000",
          "2022-01-18T09:02:47.754000",
          "2022-01-18T10:01:39.392000",
          "2022-01-18T11:00:53.184000",
          "2022-01-18T12:02:22.334000",
          "2022-01-18T13:02:39.133000",
          "2022-01-18T14:01:21.569000",
          "2022-01-18T15:01:17.038000",
          "2022-01-18T16:02:03.376000",
          "2022-01-18T17:02:17.159000",
          "2022-01-18T18:03:03.594000",
          "2022-01-18T19:01:06.377000",
          "2022-01-18T20:04:57.311000",
          "2022-01-18T21:02:01.904000",
          "2022-01-18T22:00:31.985000",
          "2022-01-18T23:00:37.453000",
          "2022-01-19T00:01:13.450000",
          "2022-01-19T01:03:49.144000",
          "2022-01-19T02:02:54.831000",
          "2022-01-19T03:02:09.780000",
          "2022-01-19T04:03:00.424000",
          "2022-01-19T05:01:37.700000",
          "2022-01-19T06:02:37.122000",
          "2022-01-19T07:04:48.262000",
          "2022-01-19T08:00:46.250000",
          "2022-01-19T09:03:08.822000",
          "2022-01-19T10:02:21.303000",
          "2022-01-19T11:01:03.989000",
          "2022-01-19T12:03:22.287000",
          "2022-01-19T13:00:45.462000",
          "2022-01-19T14:02:01.347000",
          "2022-01-19T15:02:44.168000",
          "2022-01-19T16:03:45.687000",
          "2022-01-19T17:03:58.743000",
          "2022-01-19T18:00:53.442000",
          "2022-01-19T19:03:39.192000",
          "2022-01-19T20:02:24.973000",
          "2022-01-19T21:01:18.457000",
          "2022-01-19T22:00:58.614000",
          "2022-01-19T23:02:38.721000",
          "2022-01-20T00:00:05.471000",
          "2022-01-20T01:12:49.518000",
          "2022-01-20T02:01:59.959000",
          "2022-01-20T03:01:39.541000",
          "2022-01-20T04:01:35.109000",
          "2022-01-20T05:02:09.816000",
          "2022-01-20T06:01:54.025000",
          "2022-01-20T07:04:12.361000",
          "2022-01-20T08:02:53.630000",
          "2022-01-20T09:03:26.880000",
          "2022-01-20T10:00:07.732000",
          "2022-01-20T11:02:04.869000",
          "2022-01-20T12:00:57.034000",
          "2022-01-20T13:02:21.769000",
          "2022-01-20T14:00:52.649000",
          "2022-01-20T15:01:44.488000",
          "2022-01-20T16:03:29.592000",
          "2022-01-20T17:01:45.291000",
          "2022-01-20T18:00:08.567000",
          "2022-01-20T19:00:47.727000",
          "2022-01-20T20:01:51.675000",
          "2022-01-20T21:02:43.338000",
          "2022-01-20T22:01:54.837000",
          "2022-01-20T23:00:55.169000",
          "2022-01-21T00:00:59.219000",
          "2022-01-21T01:00:14.802000",
          "2022-01-21T02:00:38.307000",
          "2022-01-21T03:00:45.516000",
          "2022-01-21T04:00:32.525000",
          "2022-01-21T05:02:54.260000",
          "2022-01-21T06:02:11.144000",
          "2022-01-21T07:02:14.002000",
          "2022-01-21T08:02:18.990000",
          "2022-01-21T09:06:12.492000",
          "2022-01-21T10:00:31.219000",
          "2022-01-21T11:01:37.123000",
          "2022-01-21T12:01:45.275000",
          "2022-01-21T13:02:51.389000",
          "2022-01-21T14:00:39.856000",
          "2022-01-21T15:01:18.422000",
          "2022-01-21T16:00:09.533000",
          "2022-01-21T17:02:52.974000",
          "2022-01-21T18:01:55.113000",
          "2022-01-21T19:01:29.302000",
          "2022-01-21T20:02:22.047000",
          "2022-01-21T21:00:14.773000",
          "2022-01-21T22:00:02.972000",
          "2022-01-21T23:01:50.522000",
          "2022-01-22T00:04:08.015000",
          "2022-01-22T01:21:11.774000",
          "2022-01-22T02:01:13.862000",
          "2022-01-22T03:02:28.357000",
          "2022-01-22T04:02:32.214000",
          "2022-01-22T05:02:30.453000",
          "2022-01-22T06:03:01.738000",
          "2022-01-22T07:02:28.400000",
          "2022-01-22T08:00:29.026000",
          "2022-01-22T09:06:19.605000",
          "2022-01-22T10:00:02.154000",
          "2022-01-22T11:02:12.824000",
          "2022-01-22T12:01:00.526000",
          "2022-01-22T13:00:36.347000",
          "2022-01-22T14:00:31.930000",
          "2022-01-22T15:06:17.964000",
          "2022-01-22T16:00:00.863000",
          "2022-01-22T17:01:25.598000",
          "2022-01-22T18:00:29.377000",
          "2022-01-22T19:07:59.406000",
          "2022-01-22T20:01:47.361000",
          "2022-01-22T21:01:42.767000",
          "2022-01-22T22:00:39.111000",
          "2022-01-22T23:02:32.509000",
          "2022-01-23T00:02:46.621000",
          "2022-01-23T01:00:04.966000",
          "2022-01-23T02:02:42.311000",
          "2022-01-23T03:00:30.933000",
          "2022-01-23T04:01:48.104000",
          "2022-01-23T05:02:31.050000",
          "2022-01-23T06:00:59.189000",
          "2022-01-23T07:02:05.713000",
          "2022-01-23T08:02:31.086000",
          "2022-01-23T09:02:55.653000",
          "2022-01-23T10:03:30.452000",
          "2022-01-23T11:00:48.639000",
          "2022-01-23T12:03:02.142000",
          "2022-01-23T13:00:55.334000",
          "2022-01-23T14:03:28.245000",
          "2022-01-23T15:03:13.192000",
          "2022-01-23T16:12:06.416000",
          "2022-01-23T17:00:38.487000",
          "2022-01-23T18:00:36.652000",
          "2022-01-23T19:01:27.734000",
          "2022-01-23T20:03:20.712000",
          "2022-01-23T21:02:30.755000",
          "2022-01-23T22:00:29.876000",
          "2022-01-23T23:01:40.086000",
          "2022-01-24T00:00:49.012000",
          "2022-01-24T01:08:58.625000",
          "2022-01-24T02:03:05.208000",
          "2022-01-24T03:01:05.806000",
          "2022-01-24T04:03:22.199000",
          "2022-01-24T05:00:16.526000",
          "2022-01-24T06:00:43.814000",
          "2022-01-24T07:00:46.676000",
          "2022-01-24T08:03:07.792000",
          "2022-01-24T09:01:08.440000",
          "2022-01-24T10:03:02.437000",
          "2022-01-24T11:03:18.022000",
          "2022-01-24T12:02:52.657000",
          "2022-01-24T13:02:04.134000",
          "2022-01-24T14:02:18.662000",
          "2022-01-24T15:03:20.939000",
          "2022-01-24T16:00:17.595000",
          "2022-01-24T17:03:19.243000",
          "2022-01-24T18:00:30.455000",
          "2022-01-24T19:02:12.932000",
          "2022-01-24T20:02:59.072000",
          "2022-01-24T21:02:07.489000",
          "2022-01-24T22:02:05.877000",
          "2022-01-24T23:00:43.184000",
          "2022-01-25T00:03:09.232000",
          "2022-01-25T01:21:19.094000",
          "2022-01-25T02:00:25.081000",
          "2022-01-25T03:03:04.619000",
          "2022-01-25T04:01:59.489000",
          "2022-01-25T05:03:02.336000",
          "2022-01-25T06:02:19.043000",
          "2022-01-25T07:04:46.771000",
          "2022-01-25T08:01:34.247000",
          "2022-01-25T09:01:32.755000",
          "2022-01-25T10:01:29.461000",
          "2022-01-25T11:03:20.013000",
          "2022-01-25T12:03:43.013000",
          "2022-01-25T13:00:37.444000",
          "2022-01-25T14:02:19.112000",
          "2022-01-25T15:02:19.108000",
          "2022-01-25T16:01:12.427000",
          "2022-01-25T17:02:56.218000",
          "2022-01-25T18:03:46.442000",
          "2022-01-25T19:02:17.453000",
          "2022-01-25T20:03:11.471000",
          "2022-01-25T21:02:51.424000",
          "2022-01-25T22:02:22.051000",
          "2022-01-25T23:10:35.313000",
          "2022-01-26T00:00:55.920000",
          "2022-01-26T01:00:23.706000",
          "2022-01-26T02:00:09.873000",
          "2022-01-26T03:02:45.984000",
          "2022-01-26T04:02:01.352000",
          "2022-01-26T05:01:48.168000",
          "2022-01-26T06:01:49.397000",
          "2022-01-26T07:01:53.680000",
          "2022-01-26T08:00:38.655000",
          "2022-01-26T09:00:44.895000",
          "2022-01-26T10:02:00.165000",
          "2022-01-26T11:02:38.228000",
          "2022-01-26T12:02:34.869000",
          "2022-01-26T13:00:17.469000",
          "2022-01-26T14:02:27.600000",
          "2022-01-26T15:01:37.386000",
          "2022-01-26T16:04:39.592000",
          "2022-01-26T17:00:58.988000",
          "2022-01-26T18:02:17.505000",
          "2022-01-26T19:21:24.390000",
          "2022-01-26T20:21:10.103000",
          "2022-01-26T21:22:22.400000",
          "2022-01-26T22:23:06.212000",
          "2022-01-26T23:22:59.070000",
          "2022-01-27T00:22:30.697000",
          "2022-01-27T02:01:07.567000",
          "2022-01-27T03:01:33.565000",
          "2022-01-27T04:01:37.487000",
          "2022-01-27T05:01:27.448000",
          "2022-01-27T06:01:52.024000",
          "2022-01-27T07:00:15.218000",
          "2022-01-27T08:00:06.237000",
          "2022-01-27T09:01:12.397000",
          "2022-01-27T10:00:05.410000",
          "2022-01-27T11:01:05.740000",
          "2022-01-27T12:00:52.924000",
          "2022-01-27T13:01:38.748000",
          "2022-01-27T14:00:36.772000",
          "2022-01-27T15:00:04.484000",
          "2022-01-27T16:00:58.476000",
          "2022-01-27T17:00:14.408000",
          "2022-01-27T18:01:22.087000",
          "2022-01-27T19:03:26.045000",
          "2022-01-27T20:00:40.844000",
          "2022-01-27T21:00:05.990000",
          "2022-01-27T22:01:00.487000",
          "2022-01-27T23:01:03.547000",
          "2022-01-28T00:01:13.940000",
          "2022-01-28T01:06:51.334000",
          "2022-01-28T02:00:30.254000",
          "2022-01-28T03:01:02.806000",
          "2022-01-28T04:00:35.233000",
          "2022-01-28T05:00:26.923000",
          "2022-01-28T06:00:29.825000",
          "2022-01-28T07:02:42.119000",
          "2022-01-28T08:00:41.688000",
          "2022-01-28T09:00:58.681000",
          "2022-01-28T10:01:36.759000",
          "2022-01-28T11:00:12.357000",
          "2022-01-28T12:00:34.044000",
          "2022-01-28T13:02:00.327000",
          "2022-01-28T14:03:06.182000",
          "2022-01-28T15:00:40.440000",
          "2022-01-28T16:00:40.469000",
          "2022-01-28T17:01:57.456000",
          "2022-01-28T18:01:53.443000",
          "2022-01-28T19:01:50.502000",
          "2022-01-28T20:01:38.629000",
          "2022-01-28T21:02:44.800000",
          "2022-01-28T22:00:23.605000",
          "2022-01-28T23:01:56.966000",
          "2022-01-29T00:01:33.573000",
          "2022-01-29T01:03:47.527000",
          "2022-01-29T02:00:30.428000",
          "2022-01-29T03:01:09.670000",
          "2022-01-29T04:01:33.886000",
          "2022-01-29T05:02:09.321000",
          "2022-01-29T06:01:55.055000",
          "2022-01-29T07:00:03.796000",
          "2022-01-29T08:01:09.620000",
          "2022-01-29T09:00:30.809000",
          "2022-01-29T10:01:20.713000",
          "2022-01-29T11:00:56.154000",
          "2022-01-29T12:01:23.140000",
          "2022-01-29T13:01:28.064000",
          "2022-01-29T14:01:40.565000",
          "2022-01-29T15:01:18.211000",
          "2022-01-29T16:01:12.658000",
          "2022-01-29T17:02:06.204000",
          "2022-01-29T18:01:48.716000",
          "2022-01-29T19:01:40.684000",
          "2022-01-29T20:00:27.155000",
          "2022-01-29T21:02:10.674000",
          "2022-01-29T22:00:08.602000",
          "2022-01-29T23:00:25.348000",
          "2022-01-30T00:01:47.820000",
          "2022-01-30T01:00:02.775000",
          "2022-01-30T02:00:06.438000",
          "2022-01-30T03:01:57.649000",
          "2022-01-30T04:01:30.037000",
          "2022-01-30T05:00:05.656000",
          "2022-01-30T06:01:48.695000",
          "2022-01-30T07:00:59.250000",
          "2022-01-30T08:00:08.809000",
          "2022-01-30T09:01:34.837000",
          "2022-01-30T10:01:22.253000",
          "2022-01-30T11:01:13.839000",
          "2022-01-30T12:05:08.605000",
          "2022-01-30T13:00:30.712000",
          "2022-01-30T14:01:17.179000",
          "2022-01-30T15:00:36.047000",
          "2022-01-30T16:02:27.802000",
          "2022-01-30T17:01:03.395000",
          "2022-01-30T18:00:49.038000",
          "2022-01-30T19:02:01.839000",
          "2022-01-30T20:00:37.385000",
          "2022-01-30T21:01:54.891000",
          "2022-01-30T22:00:19.192000",
          "2022-01-30T23:01:50.246000",
          "2022-01-31T00:02:01.396000",
          "2022-01-31T01:00:34.017000",
          "2022-01-31T02:01:51.384000",
          "2022-01-31T03:01:37.468000",
          "2022-01-31T04:01:43.398000",
          "2022-01-31T05:01:43.878000",
          "2022-01-31T06:01:54.855000",
          "2022-01-31T07:01:46.904000",
          "2022-01-31T08:00:44.678000",
          "2022-01-31T09:02:21.031000",
          "2022-01-31T10:00:19.251000",
          "2022-01-31T11:01:31.680000",
          "2022-01-31T12:00:20.573000",
          "2022-01-31T13:00:37.476000",
          "2022-01-31T14:00:30.618000",
          "2022-01-31T15:01:07.846000",
          "2022-01-31T16:02:07.711000",
          "2022-01-31T17:00:29.387000",
          "2022-01-31T18:00:43.565000",
          "2022-01-31T19:02:28.644000",
          "2022-01-31T20:01:37.858000",
          "2022-01-31T21:00:33.220000",
          "2022-01-31T22:01:23.216000",
          "2022-01-31T23:00:11.982000",
          "2022-02-01T00:01:46.811000",
          "2022-02-01T01:00:20.568000",
          "2022-02-01T02:00:14.525000",
          "2022-02-01T03:01:26.928000",
          "2022-02-01T04:01:57.624000",
          "2022-02-01T05:00:33.636000",
          "2022-02-01T06:01:44.154000",
          "2022-02-01T07:02:35.129000",
          "2022-02-01T08:02:50.193000",
          "2022-02-01T08:06:27.024000",
          "2022-02-01T09:03:27.027000",
          "2022-02-01T10:01:43.495000",
          "2022-02-01T11:01:07.368000",
          "2022-02-01T12:01:22.415000",
          "2022-02-01T13:03:31.339000",
          "2022-02-01T14:00:49.014000",
          "2022-02-01T15:01:45.481000",
          "2022-02-01T16:02:07.222000",
          "2022-02-01T17:01:57.543000",
          "2022-02-01T18:01:21.201000",
          "2022-02-01T19:01:35.915000",
          "2022-02-01T20:02:16.311000",
          "2022-02-01T21:00:17.588000",
          "2022-02-01T22:02:23.762000",
          "2022-02-01T23:02:04.959000",
          "2022-02-02T00:01:22.272000",
          "2022-02-02T01:00:38.239000",
          "2022-02-02T02:01:52.712000",
          "2022-02-02T03:01:48.399000",
          "2022-02-02T04:02:34.431000",
          "2022-02-02T05:00:51.066000",
          "2022-02-02T06:01:34",
          "2022-02-02T07:02:10.196000",
          "2022-02-02T08:01:56.415000",
          "2022-02-02T09:06:17.722000",
          "2022-02-02T10:00:08.043000",
          "2022-02-02T11:02:00.294000",
          "2022-02-02T12:00:48.125000",
          "2022-02-02T13:00:33.503000",
          "2022-02-02T14:02:12.407000",
          "2022-02-02T15:01:39.970000",
          "2022-02-02T16:02:17.679000",
          "2022-02-02T17:01:24.001000",
          "2022-02-02T18:00:16.007000",
          "2022-02-02T18:54:48"
         ]
        }
       ],
       "layout": {
        "template": {
         "data": {
          "bar": [
           {
            "error_x": {
             "color": "#2a3f5f"
            },
            "error_y": {
             "color": "#2a3f5f"
            },
            "marker": {
             "line": {
              "color": "#E5ECF6",
              "width": 0.5
             },
             "pattern": {
              "fillmode": "overlay",
              "size": 10,
              "solidity": 0.2
             }
            },
            "type": "bar"
           }
          ],
          "barpolar": [
           {
            "marker": {
             "line": {
              "color": "#E5ECF6",
              "width": 0.5
             },
             "pattern": {
              "fillmode": "overlay",
              "size": 10,
              "solidity": 0.2
             }
            },
            "type": "barpolar"
           }
          ],
          "carpet": [
           {
            "aaxis": {
             "endlinecolor": "#2a3f5f",
             "gridcolor": "white",
             "linecolor": "white",
             "minorgridcolor": "white",
             "startlinecolor": "#2a3f5f"
            },
            "baxis": {
             "endlinecolor": "#2a3f5f",
             "gridcolor": "white",
             "linecolor": "white",
             "minorgridcolor": "white",
             "startlinecolor": "#2a3f5f"
            },
            "type": "carpet"
           }
          ],
          "choropleth": [
           {
            "colorbar": {
             "outlinewidth": 0,
             "ticks": ""
            },
            "type": "choropleth"
           }
          ],
          "contour": [
           {
            "colorbar": {
             "outlinewidth": 0,
             "ticks": ""
            },
            "colorscale": [
             [
              0,
              "#0d0887"
             ],
             [
              0.1111111111111111,
              "#46039f"
             ],
             [
              0.2222222222222222,
              "#7201a8"
             ],
             [
              0.3333333333333333,
              "#9c179e"
             ],
             [
              0.4444444444444444,
              "#bd3786"
             ],
             [
              0.5555555555555556,
              "#d8576b"
             ],
             [
              0.6666666666666666,
              "#ed7953"
             ],
             [
              0.7777777777777778,
              "#fb9f3a"
             ],
             [
              0.8888888888888888,
              "#fdca26"
             ],
             [
              1,
              "#f0f921"
             ]
            ],
            "type": "contour"
           }
          ],
          "contourcarpet": [
           {
            "colorbar": {
             "outlinewidth": 0,
             "ticks": ""
            },
            "type": "contourcarpet"
           }
          ],
          "heatmap": [
           {
            "colorbar": {
             "outlinewidth": 0,
             "ticks": ""
            },
            "colorscale": [
             [
              0,
              "#0d0887"
             ],
             [
              0.1111111111111111,
              "#46039f"
             ],
             [
              0.2222222222222222,
              "#7201a8"
             ],
             [
              0.3333333333333333,
              "#9c179e"
             ],
             [
              0.4444444444444444,
              "#bd3786"
             ],
             [
              0.5555555555555556,
              "#d8576b"
             ],
             [
              0.6666666666666666,
              "#ed7953"
             ],
             [
              0.7777777777777778,
              "#fb9f3a"
             ],
             [
              0.8888888888888888,
              "#fdca26"
             ],
             [
              1,
              "#f0f921"
             ]
            ],
            "type": "heatmap"
           }
          ],
          "heatmapgl": [
           {
            "colorbar": {
             "outlinewidth": 0,
             "ticks": ""
            },
            "colorscale": [
             [
              0,
              "#0d0887"
             ],
             [
              0.1111111111111111,
              "#46039f"
             ],
             [
              0.2222222222222222,
              "#7201a8"
             ],
             [
              0.3333333333333333,
              "#9c179e"
             ],
             [
              0.4444444444444444,
              "#bd3786"
             ],
             [
              0.5555555555555556,
              "#d8576b"
             ],
             [
              0.6666666666666666,
              "#ed7953"
             ],
             [
              0.7777777777777778,
              "#fb9f3a"
             ],
             [
              0.8888888888888888,
              "#fdca26"
             ],
             [
              1,
              "#f0f921"
             ]
            ],
            "type": "heatmapgl"
           }
          ],
          "histogram": [
           {
            "marker": {
             "pattern": {
              "fillmode": "overlay",
              "size": 10,
              "solidity": 0.2
             }
            },
            "type": "histogram"
           }
          ],
          "histogram2d": [
           {
            "colorbar": {
             "outlinewidth": 0,
             "ticks": ""
            },
            "colorscale": [
             [
              0,
              "#0d0887"
             ],
             [
              0.1111111111111111,
              "#46039f"
             ],
             [
              0.2222222222222222,
              "#7201a8"
             ],
             [
              0.3333333333333333,
              "#9c179e"
             ],
             [
              0.4444444444444444,
              "#bd3786"
             ],
             [
              0.5555555555555556,
              "#d8576b"
             ],
             [
              0.6666666666666666,
              "#ed7953"
             ],
             [
              0.7777777777777778,
              "#fb9f3a"
             ],
             [
              0.8888888888888888,
              "#fdca26"
             ],
             [
              1,
              "#f0f921"
             ]
            ],
            "type": "histogram2d"
           }
          ],
          "histogram2dcontour": [
           {
            "colorbar": {
             "outlinewidth": 0,
             "ticks": ""
            },
            "colorscale": [
             [
              0,
              "#0d0887"
             ],
             [
              0.1111111111111111,
              "#46039f"
             ],
             [
              0.2222222222222222,
              "#7201a8"
             ],
             [
              0.3333333333333333,
              "#9c179e"
             ],
             [
              0.4444444444444444,
              "#bd3786"
             ],
             [
              0.5555555555555556,
              "#d8576b"
             ],
             [
              0.6666666666666666,
              "#ed7953"
             ],
             [
              0.7777777777777778,
              "#fb9f3a"
             ],
             [
              0.8888888888888888,
              "#fdca26"
             ],
             [
              1,
              "#f0f921"
             ]
            ],
            "type": "histogram2dcontour"
           }
          ],
          "mesh3d": [
           {
            "colorbar": {
             "outlinewidth": 0,
             "ticks": ""
            },
            "type": "mesh3d"
           }
          ],
          "parcoords": [
           {
            "line": {
             "colorbar": {
              "outlinewidth": 0,
              "ticks": ""
             }
            },
            "type": "parcoords"
           }
          ],
          "pie": [
           {
            "automargin": true,
            "type": "pie"
           }
          ],
          "scatter": [
           {
            "marker": {
             "colorbar": {
              "outlinewidth": 0,
              "ticks": ""
             }
            },
            "type": "scatter"
           }
          ],
          "scatter3d": [
           {
            "line": {
             "colorbar": {
              "outlinewidth": 0,
              "ticks": ""
             }
            },
            "marker": {
             "colorbar": {
              "outlinewidth": 0,
              "ticks": ""
             }
            },
            "type": "scatter3d"
           }
          ],
          "scattercarpet": [
           {
            "marker": {
             "colorbar": {
              "outlinewidth": 0,
              "ticks": ""
             }
            },
            "type": "scattercarpet"
           }
          ],
          "scattergeo": [
           {
            "marker": {
             "colorbar": {
              "outlinewidth": 0,
              "ticks": ""
             }
            },
            "type": "scattergeo"
           }
          ],
          "scattergl": [
           {
            "marker": {
             "colorbar": {
              "outlinewidth": 0,
              "ticks": ""
             }
            },
            "type": "scattergl"
           }
          ],
          "scattermapbox": [
           {
            "marker": {
             "colorbar": {
              "outlinewidth": 0,
              "ticks": ""
             }
            },
            "type": "scattermapbox"
           }
          ],
          "scatterpolar": [
           {
            "marker": {
             "colorbar": {
              "outlinewidth": 0,
              "ticks": ""
             }
            },
            "type": "scatterpolar"
           }
          ],
          "scatterpolargl": [
           {
            "marker": {
             "colorbar": {
              "outlinewidth": 0,
              "ticks": ""
             }
            },
            "type": "scatterpolargl"
           }
          ],
          "scatterternary": [
           {
            "marker": {
             "colorbar": {
              "outlinewidth": 0,
              "ticks": ""
             }
            },
            "type": "scatterternary"
           }
          ],
          "surface": [
           {
            "colorbar": {
             "outlinewidth": 0,
             "ticks": ""
            },
            "colorscale": [
             [
              0,
              "#0d0887"
             ],
             [
              0.1111111111111111,
              "#46039f"
             ],
             [
              0.2222222222222222,
              "#7201a8"
             ],
             [
              0.3333333333333333,
              "#9c179e"
             ],
             [
              0.4444444444444444,
              "#bd3786"
             ],
             [
              0.5555555555555556,
              "#d8576b"
             ],
             [
              0.6666666666666666,
              "#ed7953"
             ],
             [
              0.7777777777777778,
              "#fb9f3a"
             ],
             [
              0.8888888888888888,
              "#fdca26"
             ],
             [
              1,
              "#f0f921"
             ]
            ],
            "type": "surface"
           }
          ],
          "table": [
           {
            "cells": {
             "fill": {
              "color": "#EBF0F8"
             },
             "line": {
              "color": "white"
             }
            },
            "header": {
             "fill": {
              "color": "#C8D4E3"
             },
             "line": {
              "color": "white"
             }
            },
            "type": "table"
           }
          ]
         },
         "layout": {
          "annotationdefaults": {
           "arrowcolor": "#2a3f5f",
           "arrowhead": 0,
           "arrowwidth": 1
          },
          "autotypenumbers": "strict",
          "coloraxis": {
           "colorbar": {
            "outlinewidth": 0,
            "ticks": ""
           }
          },
          "colorscale": {
           "diverging": [
            [
             0,
             "#8e0152"
            ],
            [
             0.1,
             "#c51b7d"
            ],
            [
             0.2,
             "#de77ae"
            ],
            [
             0.3,
             "#f1b6da"
            ],
            [
             0.4,
             "#fde0ef"
            ],
            [
             0.5,
             "#f7f7f7"
            ],
            [
             0.6,
             "#e6f5d0"
            ],
            [
             0.7,
             "#b8e186"
            ],
            [
             0.8,
             "#7fbc41"
            ],
            [
             0.9,
             "#4d9221"
            ],
            [
             1,
             "#276419"
            ]
           ],
           "sequential": [
            [
             0,
             "#0d0887"
            ],
            [
             0.1111111111111111,
             "#46039f"
            ],
            [
             0.2222222222222222,
             "#7201a8"
            ],
            [
             0.3333333333333333,
             "#9c179e"
            ],
            [
             0.4444444444444444,
             "#bd3786"
            ],
            [
             0.5555555555555556,
             "#d8576b"
            ],
            [
             0.6666666666666666,
             "#ed7953"
            ],
            [
             0.7777777777777778,
             "#fb9f3a"
            ],
            [
             0.8888888888888888,
             "#fdca26"
            ],
            [
             1,
             "#f0f921"
            ]
           ],
           "sequentialminus": [
            [
             0,
             "#0d0887"
            ],
            [
             0.1111111111111111,
             "#46039f"
            ],
            [
             0.2222222222222222,
             "#7201a8"
            ],
            [
             0.3333333333333333,
             "#9c179e"
            ],
            [
             0.4444444444444444,
             "#bd3786"
            ],
            [
             0.5555555555555556,
             "#d8576b"
            ],
            [
             0.6666666666666666,
             "#ed7953"
            ],
            [
             0.7777777777777778,
             "#fb9f3a"
            ],
            [
             0.8888888888888888,
             "#fdca26"
            ],
            [
             1,
             "#f0f921"
            ]
           ]
          },
          "colorway": [
           "#636efa",
           "#EF553B",
           "#00cc96",
           "#ab63fa",
           "#FFA15A",
           "#19d3f3",
           "#FF6692",
           "#B6E880",
           "#FF97FF",
           "#FECB52"
          ],
          "font": {
           "color": "#2a3f5f"
          },
          "geo": {
           "bgcolor": "white",
           "lakecolor": "white",
           "landcolor": "#E5ECF6",
           "showlakes": true,
           "showland": true,
           "subunitcolor": "white"
          },
          "hoverlabel": {
           "align": "left"
          },
          "hovermode": "closest",
          "mapbox": {
           "style": "light"
          },
          "paper_bgcolor": "white",
          "plot_bgcolor": "#E5ECF6",
          "polar": {
           "angularaxis": {
            "gridcolor": "white",
            "linecolor": "white",
            "ticks": ""
           },
           "bgcolor": "#E5ECF6",
           "radialaxis": {
            "gridcolor": "white",
            "linecolor": "white",
            "ticks": ""
           }
          },
          "scene": {
           "xaxis": {
            "backgroundcolor": "#E5ECF6",
            "gridcolor": "white",
            "gridwidth": 2,
            "linecolor": "white",
            "showbackground": true,
            "ticks": "",
            "zerolinecolor": "white"
           },
           "yaxis": {
            "backgroundcolor": "#E5ECF6",
            "gridcolor": "white",
            "gridwidth": 2,
            "linecolor": "white",
            "showbackground": true,
            "ticks": "",
            "zerolinecolor": "white"
           },
           "zaxis": {
            "backgroundcolor": "#E5ECF6",
            "gridcolor": "white",
            "gridwidth": 2,
            "linecolor": "white",
            "showbackground": true,
            "ticks": "",
            "zerolinecolor": "white"
           }
          },
          "shapedefaults": {
           "line": {
            "color": "#2a3f5f"
           }
          },
          "ternary": {
           "aaxis": {
            "gridcolor": "white",
            "linecolor": "white",
            "ticks": ""
           },
           "baxis": {
            "gridcolor": "white",
            "linecolor": "white",
            "ticks": ""
           },
           "bgcolor": "#E5ECF6",
           "caxis": {
            "gridcolor": "white",
            "linecolor": "white",
            "ticks": ""
           }
          },
          "title": {
           "x": 0.05
          },
          "xaxis": {
           "automargin": true,
           "gridcolor": "white",
           "linecolor": "white",
           "ticks": "",
           "title": {
            "standoff": 15
           },
           "zerolinecolor": "white",
           "zerolinewidth": 2
          },
          "yaxis": {
           "automargin": true,
           "gridcolor": "white",
           "linecolor": "white",
           "ticks": "",
           "title": {
            "standoff": 15
           },
           "zerolinecolor": "white",
           "zerolinewidth": 2
          }
         }
        },
        "xaxis": {
         "rangeslider": {
          "visible": false
         }
        }
       }
      }
     },
     "metadata": {},
     "output_type": "display_data"
    }
   ],
   "source": [
    "fig = go.Figure(data=[go.Candlestick(x=data['Date'],\n",
    "                open=candlestick_data['Price']['first'], \n",
    "                high=candlestick_data['Price']['max'],\n",
    "                low=candlestick_data['Price']['min'], \n",
    "                close=candlestick_data['Price']['last'])\n",
    "                ])\n",
    "\n",
    "fig.update_layout(xaxis_rangeslider_visible=False)\n",
    "\n",
    "fig.show()"
   ]
  },
  {
   "cell_type": "markdown",
   "metadata": {},
   "source": [
    "## Authors:\n",
    "\n",
    "## Change Log\n",
    "\n",
    "| Date (YYYY-MM-DD) | Version | Changed By    | Change Description                 |\n",
    "| ----------------- | ------- | ------------- | ---------------------------------- |\n",
    "| 2020-11-23        | 3.0     | Azim Hirjani  | New API                            |\n",
    "| 2020-09-09        | 2.1     | Malika Singla | Spell Check                        |\n",
    "| 2020-08-26        | 2.0     | Lavanya       | Moved lab to course repo in GitLab |\n",
    "|                   |         |               |                                    |\n",
    "\n",
    "<hr/>\n",
    "\n",
    "## <h3 align=\"center\"> © IBM Corporation 2020. All rights reserved. <h3/>\n"
   ]
  }
 ],
 "metadata": {
  "interpreter": {
   "hash": "fb9f276e0f50a8c59c9b1bd8fbe1fb75b2bae3f0a31df33a26f64d22b7ba6169"
  },
  "kernelspec": {
   "display_name": "Python",
   "language": "python",
   "name": "python3"
  },
  "language_info": {
   "codemirror_mode": {
    "name": "ipython",
    "version": 3
   },
   "file_extension": ".py",
   "mimetype": "text/x-python",
   "name": "python",
   "nbconvert_exporter": "python",
   "pygments_lexer": "ipython3",
   "version": "3.9.7"
  }
 },
 "nbformat": 4,
 "nbformat_minor": 4
}
